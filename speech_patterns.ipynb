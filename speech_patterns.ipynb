{
 "cells": [
  {
   "cell_type": "markdown",
   "metadata": {},
   "source": [
    "## preprocess data"
   ]
  },
  {
   "cell_type": "code",
   "execution_count": 1,
   "metadata": {},
   "outputs": [
    {
     "data": {
      "text/plain": [
       "{'agenda_item': [{'speaker': 'speaker', 'role': 'role'}]}"
      ]
     },
     "execution_count": 1,
     "metadata": {},
     "output_type": "execute_result"
    }
   ],
   "source": [
    "import csv\n",
    "\n",
    "data = {}\n",
    "\n",
    "with open('germaparl_role_patterns.csv', 'r') as csvfile:\n",
    "    reader = csv.reader(csvfile, delimiter=',', quotechar='\"')\n",
    "    for row in reader:\n",
    "        if row[4] not in data.keys():\n",
    "            data[row[4]] = {}\n",
    "        day = data[row[4]]\n",
    "        obj = {\n",
    "            'speaker': row[2],\n",
    "            'role': row[3]\n",
    "        }\n",
    "        agenda_item_index = row[1]\n",
    "        if agenda_item_index not in day.keys():\n",
    "            day[agenda_item_index] = []\n",
    "        agenda_item = day[agenda_item_index]\n",
    "        agenda_item.append(obj)\n",
    "        \n",
    "# cut header\n",
    "data.pop('date', None)"
   ]
  },
  {
   "cell_type": "markdown",
   "metadata": {},
   "source": [
    "## generate symbols"
   ]
  },
  {
   "cell_type": "code",
   "execution_count": 2,
   "metadata": {},
   "outputs": [],
   "source": [
    "symbols = {\n",
    "    'presidency': 'pr',\n",
    "    'government': 'go',\n",
    "    'federal_council': 'fe',\n",
    "    'mp': 'mp',\n",
    "    'parliamentary_commissioner': 'pa'\n",
    "}\n",
    "tuples = {}\n",
    "\n",
    "for day_idx in data.keys():\n",
    "    day = data[day_idx]\n",
    "    for agenda_item_idx in day.keys():\n",
    "        agenda_item = day[agenda_item_idx]\n",
    "        for obj_idx, obj in enumerate(agenda_item[:-3]):\n",
    "            obj1, obj2, obj3 = agenda_item[obj_idx], agenda_item[obj_idx+2], agenda_item[obj_idx+2]\n",
    "            symbol = '{}{}{}'.format(\n",
    "                symbols[obj1['role']],\n",
    "                symbols[obj2['role']],\n",
    "                symbols[obj3['role']]\n",
    "            )\n",
    "            if symbol not in tuples.keys():\n",
    "                tuples[symbol] = 0\n",
    "            tuples[symbol] = tuples[symbol] + 1"
   ]
  },
  {
   "cell_type": "markdown",
   "metadata": {},
   "source": [
    "```tuples``` now contains sympols and their number of occurence\n",
    "* __TODO__: check if order of entries is still intact\n",
    "* __TODO__: correlate symbols with agenda_items and dates\n",
    "* __TODO__: classify symbols to categories of processes (prprpr == 'monologue')\n",
    "* __TODO__: tweak symbol length for meaningful patterns\n",
    "* __TODO__: use likelihood of symbols to classify in groups (although the entropy here is __surprisingly low__)"
   ]
  },
  {
   "cell_type": "code",
   "execution_count": 3,
   "metadata": {},
   "outputs": [
    {
     "name": "stdout",
     "output_type": "stream",
     "text": [
      "{'prprpr': 80201, 'gompmp': 24363, 'mpmpmp': 84659, 'prmpmp': 8851, 'mpprpr': 25774, 'mpfefe': 231, 'fefefe': 245, 'fempmp': 316, 'prfefe': 42, 'mpgogo': 5051, 'gofefe': 64, 'gogogo': 10538, 'prgogo': 18480, 'goprpr': 569, 'mppapa': 1, 'prpapa': 1, 'pagogo': 12, 'fegogo': 35, 'gopapa': 1, 'pampmp': 20, 'papapa': 3}\n"
     ]
    }
   ],
   "source": [
    "print(tuples)"
   ]
  },
  {
   "cell_type": "code",
   "execution_count": null,
   "metadata": {},
   "outputs": [],
   "source": []
  }
 ],
 "metadata": {
  "kernelspec": {
   "display_name": "Python 3",
   "language": "python",
   "name": "python3"
  },
  "language_info": {
   "codemirror_mode": {
    "name": "ipython",
    "version": 3
   },
   "file_extension": ".py",
   "mimetype": "text/x-python",
   "name": "python",
   "nbconvert_exporter": "python",
   "pygments_lexer": "ipython3",
   "version": "3.6.5"
  }
 },
 "nbformat": 4,
 "nbformat_minor": 2
}
