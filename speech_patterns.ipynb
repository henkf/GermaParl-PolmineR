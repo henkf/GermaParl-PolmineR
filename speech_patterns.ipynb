{
 "cells": [
  {
   "cell_type": "markdown",
   "metadata": {},
   "source": [
    "## preprocess data"
   ]
  },
  {
   "cell_type": "code",
   "execution_count": 1,
   "metadata": {},
   "outputs": [
    {
     "name": "stdout",
     "output_type": "stream",
     "text": [
      "number of agenda_items: 9197\n"
     ]
    }
   ],
   "source": [
    "import csv\n",
    "\n",
    "data = {}\n",
    "cnt_read = 0\n",
    "cnt_in_agenda = 0\n",
    "\n",
    "with open('germaparl_role_patterns.csv', 'r') as csvfile:\n",
    "    reader = csv.reader(csvfile, delimiter=',', quotechar='\"')\n",
    "    for row in reader:\n",
    "        if row[4] == 'date': continue # omit header\n",
    "        if row[4] not in data.keys():\n",
    "            data[row[4]] = {}\n",
    "        day = data[row[4]]\n",
    "        agenda_item_index = row[1]\n",
    "        if agenda_item_index not in day.keys():\n",
    "            day[agenda_item_index] = []\n",
    "            cnt_read += 1\n",
    "            cnt_in_agenda = 0\n",
    "        obj = {\n",
    "            'speaker': row[2],\n",
    "            'role': row[3],\n",
    "            'idx': cnt_in_agenda \n",
    "        }\n",
    "        agenda_item = day[agenda_item_index]\n",
    "        agenda_item.append(obj)\n",
    "        cnt_in_agenda += 1\n",
    "\n",
    "print(\"number of agenda_items:\", cnt_read)"
   ]
  },
  {
   "cell_type": "markdown",
   "metadata": {},
   "source": [
    "## generate symbols"
   ]
  },
  {
   "cell_type": "code",
   "execution_count": 2,
   "metadata": {},
   "outputs": [],
   "source": [
    "symbols = {\n",
    "    'presidency': 'pr',\n",
    "    'government': 'go',\n",
    "    'federal_council': 'fe',\n",
    "    'mp': 'mp',\n",
    "    'parliamentary_commissioner': 'pa'\n",
    "}\n",
    "tuples = {}\n",
    "\n",
    "for day_idx in data.keys():\n",
    "    day = data[day_idx]\n",
    "    for agenda_item_idx in day.keys():\n",
    "        agenda_item = day[agenda_item_idx]\n",
    "        for obj_idx, obj in enumerate(agenda_item[:-3]):\n",
    "            obj1, obj2, obj3 = agenda_item[obj_idx], agenda_item[obj_idx+1], agenda_item[obj_idx+2]\n",
    "            symbol = '{}{}{}'.format(\n",
    "                symbols[obj1['role']],\n",
    "                symbols[obj2['role']],\n",
    "                symbols[obj3['role']]\n",
    "            )\n",
    "            if symbol not in tuples.keys():\n",
    "                tuples[symbol] = 0\n",
    "            tuples[symbol] = tuples[symbol] + 1"
   ]
  },
  {
   "cell_type": "markdown",
   "metadata": {},
   "source": [
    "```tuples``` now contains sympols and their number of occurence\n",
    "* __TODO__: check if order of entries is still intact\n",
    "* __TODO__: correlate symbols with agenda_items and dates\n",
    "* __TODO__: classify symbols to categories of processes (prprpr == 'monologue')\n",
    "* __TODO__: tweak symbol length for meaningful patterns\n",
    "* __TODO__: use likelihood of symbols to classify in groups (although the entropy here is __surprisingly low__)"
   ]
  },
  {
   "cell_type": "code",
   "execution_count": 3,
   "metadata": {},
   "outputs": [
    {
     "name": "stdout",
     "output_type": "stream",
     "text": [
      "{'prgopr': 12711, 'goprmp': 24342, 'prmppr': 67064, 'mpprmp': 74033, 'prmpmp': 7795, 'mpmppr': 7284, 'mpprfe': 229, 'prfepr': 417, 'feprfe': 182, 'feprmp': 315, 'prmpfe': 40, 'mpfepr': 90, 'prfemp': 54, 'fempfe': 63, 'mpfemp': 10, 'mpprgo': 4939, 'goprfe': 64, 'mpmpmp': 8738, 'goprgo': 8262, 'prgomp': 962, 'gompgo': 2276, 'prmpgo': 18468, 'mpgopr': 18360, 'mpgomp': 1878, 'gomppr': 543, 'mpprpa': 1, 'mpprpr': 40, 'prprmp': 40, 'mpmpgo': 96, 'mpgogo': 16, 'gogomp': 1, 'gompmp': 20, 'prprpa': 1, 'prpapr': 7, 'paprgo': 12, 'prprpr': 2, 'feprgo': 35, 'fempmp': 1, 'goprpa': 1, 'paprmp': 20, 'gogopr': 17, 'goprpr': 9, 'prprgo': 9, 'prgogo': 3, 'paprpa': 3, 'prprfe': 2, 'mpmpfe': 2}\n"
     ]
    }
   ],
   "source": [
    "print(tuples)"
   ]
  },
  {
   "cell_type": "code",
   "execution_count": null,
   "metadata": {},
   "outputs": [],
   "source": []
  }
 ],
 "metadata": {
  "kernelspec": {
   "display_name": "Python 3",
   "language": "python",
   "name": "python3"
  },
  "language_info": {
   "codemirror_mode": {
    "name": "ipython",
    "version": 3
   },
   "file_extension": ".py",
   "mimetype": "text/x-python",
   "name": "python",
   "nbconvert_exporter": "python",
   "pygments_lexer": "ipython3",
   "version": "3.6.5"
  }
 },
 "nbformat": 4,
 "nbformat_minor": 2
}
